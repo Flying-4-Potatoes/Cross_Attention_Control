{
 "cells": [
  {
   "cell_type": "code",
   "execution_count": null,
   "id": "88b4974c-6437-422d-afae-daa2884ad633",
   "metadata": {},
   "outputs": [],
   "source": [
    "import torch\n",
    "from transformers import CLIPModel, CLIPTextModel, CLIPTokenizer\n",
    "from diffusers import AutoencoderKL, UNet2DConditionModel"
   ]
  },
  {
   "cell_type": "code",
   "execution_count": null,
   "id": "38ebfbd7-5026-4830-93e5-d43272db8912",
   "metadata": {},
   "outputs": [],
   "source": [
    "#Init CLIP tokenizer and model\n",
    "model_path_clip = \"openai/clip-vit-large-patch14\"\n",
    "clip_tokenizer = CLIPTokenizer.from_pretrained(model_path_clip)\n",
    "clip_model = CLIPModel.from_pretrained(model_path_clip, torch_dtype=torch.float16)\n",
    "clip = clip_model.text_model\n",
    "\n",
    "#Init diffusion model\n",
    "auth_token = True #Replace this with huggingface auth token as a string if model is not already downloaded\n",
    "model_path_diffusion = \"CompVis/stable-diffusion-v1-4\"\n",
    "unet = UNet2DConditionModel.from_pretrained(model_path_diffusion, subfolder=\"unet\", use_auth_token=auth_token, revision=\"fp16\", torch_dtype=torch.float16)\n",
    "vae = AutoencoderKL.from_pretrained(model_path_diffusion, subfolder=\"vae\", use_auth_token=auth_token, revision=\"fp16\", torch_dtype=torch.float16)\n",
    "\n",
    "#Move to GPU\n",
    "device = \"cuda\"\n",
    "unet.to(device)\n",
    "vae.to(device)\n",
    "clip.to(device)\n",
    "print(\"Loaded all models\")"
   ]
  },
  {
   "cell_type": "code",
   "execution_count": null,
   "id": "08dee7d1-e050-43d3-86a9-5776276aad78",
   "metadata": {},
   "outputs": [],
   "source": [
    "import numpy as np\n",
    "import random\n",
    "from PIL import Image\n",
    "from diffusers import LMSDiscreteScheduler\n",
    "from tqdm.auto import tqdm\n",
    "from torch import autocast\n",
    "from difflib import SequenceMatcher\n",
    "\n",
    "def init_attention_weights(weight_tuples):\n",
    "    tokens_length = clip_tokenizer.model_max_length\n",
    "    weights = torch.ones(tokens_length)\n",
    "    \n",
    "    for i, w in weight_tuples:\n",
    "        if i < tokens_length and i >= 0:\n",
    "            weights[i] = w\n",
    "    \n",
    "    \n",
    "    for name, module in unet.named_modules():\n",
    "        module_name = type(module).__name__\n",
    "        if module_name == \"CrossAttention\" and \"attn2\" in name:\n",
    "            module.last_attn_slice_weights = weights.to(device)\n",
    "        if module_name == \"CrossAttention\" and \"attn1\" in name:\n",
    "            module.last_attn_slice_weights = None\n",
    "    \n",
    "\n",
    "def init_attention_edit(tokens, tokens_edit):\n",
    "    tokens_length = clip_tokenizer.model_max_length\n",
    "    mask = torch.zeros(tokens_length)\n",
    "    indices_target = torch.arange(tokens_length, dtype=torch.long)\n",
    "    indices = torch.zeros(tokens_length, dtype=torch.long)\n",
    "\n",
    "    tokens = tokens.input_ids.numpy()[0]\n",
    "    tokens_edit = tokens_edit.input_ids.numpy()[0]\n",
    "    \n",
    "    for name, a0, a1, b0, b1 in SequenceMatcher(None, tokens, tokens_edit).get_opcodes():\n",
    "        if b0 < tokens_length:\n",
    "            if name == \"equal\" or (name == \"replace\" and a1-a0 == b1-b0):\n",
    "                mask[b0:b1] = 1\n",
    "                indices[b0:b1] = indices_target[a0:a1]\n",
    "\n",
    "    for name, module in unet.named_modules():\n",
    "        module_name = type(module).__name__\n",
    "        if module_name == \"CrossAttention\" and \"attn2\" in name:\n",
    "            module.last_attn_slice_mask = mask.to(device)\n",
    "            module.last_attn_slice_indices = indices.to(device)\n",
    "        if module_name == \"CrossAttention\" and \"attn1\" in name:\n",
    "            module.last_attn_slice_mask = None\n",
    "            module.last_attn_slice_indices = None\n",
    "\n",
    "\n",
    "def init_attention_func():\n",
    "    def new_attention(self, query, key, value, sequence_length, dim):\n",
    "        batch_size_attention = query.shape[0]\n",
    "        hidden_states = torch.zeros(\n",
    "            (batch_size_attention, sequence_length, dim // self.heads), device=query.device, dtype=query.dtype\n",
    "        )\n",
    "        slice_size = self._slice_size if self._slice_size is not None else hidden_states.shape[0]\n",
    "        for i in range(hidden_states.shape[0] // slice_size):\n",
    "            start_idx = i * slice_size\n",
    "            end_idx = (i + 1) * slice_size\n",
    "            attn_slice = (\n",
    "                torch.einsum(\"b i d, b j d -> b i j\", query[start_idx:end_idx], key[start_idx:end_idx]) * self.scale\n",
    "            )\n",
    "            attn_slice = attn_slice.softmax(dim=-1)\n",
    "            \n",
    "            if self.use_last_attn_slice:\n",
    "                if self.last_attn_slice_mask is not None:\n",
    "                    new_attn_slice = torch.index_select(self.last_attn_slice, -1, self.last_attn_slice_indices)\n",
    "                    attn_slice = attn_slice * (1 - self.last_attn_slice_mask) + new_attn_slice * self.last_attn_slice_mask\n",
    "                else:\n",
    "                    attn_slice = self.last_attn_slice\n",
    "                \n",
    "                self.use_last_attn_slice = False\n",
    "                    \n",
    "            if self.save_last_attn_slice:\n",
    "                self.last_attn_slice = attn_slice\n",
    "                self.save_last_attn_slice = False\n",
    "                \n",
    "            if self.use_last_attn_weights and self.last_attn_slice_weights is not None:\n",
    "                attn_slice = attn_slice * self.last_attn_slice_weights\n",
    "                self.use_last_attn_weights = False\n",
    "\n",
    "            attn_slice = torch.einsum(\"b i j, b j d -> b i d\", attn_slice, value[start_idx:end_idx])\n",
    "\n",
    "            hidden_states[start_idx:end_idx] = attn_slice\n",
    "\n",
    "        # reshape hidden_states\n",
    "        hidden_states = self.reshape_batch_dim_to_heads(hidden_states)\n",
    "        return hidden_states\n",
    "\n",
    "    for name, module in unet.named_modules():\n",
    "        module_name = type(module).__name__\n",
    "        if module_name == \"CrossAttention\":\n",
    "            module.last_attn_slice = None\n",
    "            module.use_last_attn_slice = False\n",
    "            module.use_last_attn_weights = False\n",
    "            module.save_last_attn_slice = False\n",
    "            module._attention = new_attention.__get__(module, type(module))\n",
    "            \n",
    "def use_last_tokens_attention(use=True):\n",
    "    for name, module in unet.named_modules():\n",
    "        module_name = type(module).__name__\n",
    "        if module_name == \"CrossAttention\" and \"attn2\" in name:\n",
    "            module.use_last_attn_slice = use\n",
    "            \n",
    "def use_last_tokens_attention_weights(use=True):\n",
    "    for name, module in unet.named_modules():\n",
    "        module_name = type(module).__name__\n",
    "        if module_name == \"CrossAttention\" and \"attn2\" in name:\n",
    "            module.use_last_attn_weights = use\n",
    "            \n",
    "def use_last_self_attention(use=True):\n",
    "    for name, module in unet.named_modules():\n",
    "        module_name = type(module).__name__\n",
    "        if module_name == \"CrossAttention\" and \"attn1\" in name:\n",
    "            module.use_last_attn_slice = use\n",
    "            \n",
    "def save_last_tokens_attention(save=True):\n",
    "    for name, module in unet.named_modules():\n",
    "        module_name = type(module).__name__\n",
    "        if module_name == \"CrossAttention\" and \"attn2\" in name:\n",
    "            module.save_last_attn_slice = save\n",
    "            \n",
    "def save_last_self_attention(save=True):\n",
    "    for name, module in unet.named_modules():\n",
    "        module_name = type(module).__name__\n",
    "        if module_name == \"CrossAttention\" and \"attn1\" in name:\n",
    "            module.save_last_attn_slice = save\n",
    "            \n",
    "@torch.no_grad()\n",
    "def stablediffusion(prompt=\"\", prompt_edit=None, prompt_edit_token_weights=[], prompt_edit_tokens_start=0.0, prompt_edit_tokens_end=1.0, prompt_edit_spatial_start=0.0, prompt_edit_spatial_end=1.0, guidance_scale=7.5, steps=50, seed=None, width=512, height=512, init_image=None, init_image_strength=0.5):\n",
    "    #Change size to multiple of 64 to prevent size mismatches inside model\n",
    "    width = width - width % 64\n",
    "    height = height - height % 64\n",
    "    \n",
    "    #If seed is None, randomly select seed from 0 to 2^32-1\n",
    "    if seed is None: seed = random.randrange(2**32 - 1)\n",
    "    generator = torch.cuda.manual_seed(seed)\n",
    "    \n",
    "    #Set inference timesteps to scheduler\n",
    "    scheduler = LMSDiscreteScheduler(beta_start=0.00085, beta_end=0.012, beta_schedule=\"scaled_linear\", num_train_timesteps=1000)\n",
    "    scheduler.set_timesteps(steps)\n",
    "    \n",
    "    #Preprocess image if it exists (img2img)\n",
    "    if init_image is not None:\n",
    "        #Resize and transpose for numpy b h w c -> torch b c h w\n",
    "        init_image = init_image.resize((width, height), resample=Image.Resampling.LANCZOS)\n",
    "        init_image = np.array(init_image).astype(np.float32) / 255.0 * 2.0 - 1.0\n",
    "        init_image = torch.from_numpy(init_image[np.newaxis, ...].transpose(0, 3, 1, 2))\n",
    "        \n",
    "        #If there is alpha channel, composite alpha for white, as the diffusion model does not support alpha channel\n",
    "        if init_image.shape[1] > 3:\n",
    "            init_image = init_image[:, :3] * init_image[:, 3:] + (1 - init_image[:, 3:])\n",
    "            \n",
    "        #Move image to GPU\n",
    "        init_image = init_image.to(device)\n",
    "        \n",
    "        #Encode image\n",
    "        with autocast(device):\n",
    "            init_latent = vae.encode(init_image).latent_dist.sample(generator=generator) * 0.18215\n",
    "            \n",
    "        t_start = steps - int(steps * init_image_strength)\n",
    "            \n",
    "    else:\n",
    "        init_latent = torch.zeros((1, unet.in_channels, height // 8, width // 8), device=device)\n",
    "        t_start = 0\n",
    "    \n",
    "    #Generate random normal noise\n",
    "    noise = torch.randn(init_latent.shape, generator=generator, device=device)\n",
    "    latent = scheduler.add_noise(init_latent, noise, t_start).to(device)\n",
    "    \n",
    "    #Process clip\n",
    "    with autocast(device):\n",
    "        tokens_unconditional = clip_tokenizer(\"\", padding=\"max_length\", max_length=clip_tokenizer.model_max_length, truncation=True, return_tensors=\"pt\", return_overflowing_tokens=True)\n",
    "        embedding_unconditional = clip(tokens_unconditional.input_ids.to(device)).last_hidden_state\n",
    "\n",
    "        tokens_conditional = clip_tokenizer(prompt, padding=\"max_length\", max_length=clip_tokenizer.model_max_length, truncation=True, return_tensors=\"pt\", return_overflowing_tokens=True)\n",
    "        embedding_conditional = clip(tokens_conditional.input_ids.to(device)).last_hidden_state\n",
    "\n",
    "        #Process prompt editing\n",
    "        if prompt_edit is not None:\n",
    "            tokens_conditional_edit = clip_tokenizer(prompt_edit, padding=\"max_length\", max_length=clip_tokenizer.model_max_length, truncation=True, return_tensors=\"pt\", return_overflowing_tokens=True)\n",
    "            embedding_conditional_edit = clip(tokens_conditional_edit.input_ids.to(device)).last_hidden_state\n",
    "            \n",
    "            init_attention_edit(tokens_conditional, tokens_conditional_edit)\n",
    "            \n",
    "        init_attention_func()\n",
    "        init_attention_weights(prompt_edit_token_weights)\n",
    "            \n",
    "        timesteps = scheduler.timesteps[t_start:]\n",
    "        \n",
    "        for i, t in tqdm(enumerate(timesteps), total=len(timesteps)):\n",
    "            t_index = t_start + i\n",
    "\n",
    "            sigma = scheduler.sigmas[t_index]\n",
    "            latent_model_input = latent\n",
    "            latent_model_input = (latent_model_input / ((sigma**2 + 1) ** 0.5)).to(unet.dtype)\n",
    "\n",
    "            #Predict the unconditional noise residual\n",
    "            noise_pred_uncond = unet(latent_model_input, t, encoder_hidden_states=embedding_unconditional).sample\n",
    "            \n",
    "            #Prepare the Cross-Attention layers\n",
    "            if prompt_edit is not None:\n",
    "                save_last_tokens_attention()\n",
    "                save_last_self_attention()\n",
    "            else:\n",
    "                #Use weights on non-edited prompt when edit is None\n",
    "                use_last_tokens_attention_weights()\n",
    "                \n",
    "            #Predict the conditional noise residual and save the cross-attention layer activations\n",
    "            noise_pred_cond = unet(latent_model_input, t, encoder_hidden_states=embedding_conditional).sample\n",
    "            \n",
    "            #Edit the Cross-Attention layer activations\n",
    "            if prompt_edit is not None:\n",
    "                t_scale = t / scheduler.num_train_timesteps\n",
    "                if t_scale >= prompt_edit_tokens_start and t_scale <= prompt_edit_tokens_end:\n",
    "                    use_last_tokens_attention()\n",
    "                if t_scale >= prompt_edit_spatial_start and t_scale <= prompt_edit_spatial_end:\n",
    "                    use_last_self_attention()\n",
    "                    \n",
    "                #Use weights on edited prompt\n",
    "                use_last_tokens_attention_weights()\n",
    "\n",
    "                #Predict the edited conditional noise residual using the cross-attention masks\n",
    "                noise_pred_cond = unet(latent_model_input, t, encoder_hidden_states=embedding_conditional_edit).sample\n",
    "                \n",
    "            #Perform guidance\n",
    "            noise_pred = noise_pred_uncond + guidance_scale * (noise_pred_cond - noise_pred_uncond)\n",
    "\n",
    "            latent = scheduler.step(noise_pred, t_index, latent).prev_sample\n",
    "\n",
    "        #scale and decode the image latents with vae\n",
    "        latent = latent / 0.18215\n",
    "        image = vae.decode(latent.to(vae.dtype)).sample\n",
    "\n",
    "    image = (image / 2 + 0.5).clamp(0, 1)\n",
    "    image = image.cpu().permute(0, 2, 3, 1).numpy()\n",
    "    image = (image[0] * 255).round().astype(\"uint8\")\n",
    "    return Image.fromarray(image)\n"
   ]
  },
  {
   "cell_type": "code",
   "execution_count": null,
   "id": "24e9d39a-df21-45ba-bcfc-58b8784617d6",
   "metadata": {},
   "outputs": [],
   "source": [
    "def prompt_token(prompt, index):\n",
    "    tokens = clip_tokenizer(prompt, padding=\"max_length\", max_length=clip_tokenizer.model_max_length, truncation=True, return_tensors=\"pt\", return_overflowing_tokens=True).input_ids[0]\n",
    "    return clip_tokenizer.decode(tokens[index:index+1])"
   ]
  },
  {
   "cell_type": "code",
   "execution_count": null,
   "id": "f44ff9cb-6d43-4b32-bf2a-17bfca665218",
   "metadata": {},
   "outputs": [],
   "source": [
    "prompt_token(\"A fantasy landscape with a pine forest, trending on artstation\", 7)"
   ]
  },
  {
   "cell_type": "code",
   "execution_count": null,
   "id": "ea4fbdaa-7f08-471f-b632-b95034df11d1",
   "metadata": {},
   "outputs": [],
   "source": [
    "stablediffusion(\"A fantasy landscape with a pine forest, trending on artstation\", seed=2483964025, width=768)"
   ]
  },
  {
   "cell_type": "code",
   "execution_count": null,
   "id": "ae9b1345-dc86-4ea9-8740-dd9cceba289e",
   "metadata": {},
   "outputs": [],
   "source": [
    "stablediffusion(\"A fantasy landscape with a pine forest, trending on artstation\", prompt_edit_token_weights=[(2, -3)], seed=2483964025, width=768)"
   ]
  },
  {
   "cell_type": "code",
   "execution_count": null,
   "id": "a0b8e406-b6f1-41c1-a838-380153ac75e8",
   "metadata": {},
   "outputs": [],
   "source": [
    "stablediffusion(\"A fantasy landscape with a pine forest, trending on artstation\", prompt_edit_token_weights=[(2, -8)], seed=2483964025, width=768)"
   ]
  },
  {
   "cell_type": "code",
   "execution_count": null,
   "id": "9e843c88-318a-4ed6-adfa-3cab5640b283",
   "metadata": {},
   "outputs": [],
   "source": [
    "stablediffusion(\"A fantasy landscape with a pine forest, trending on artstation\", \"A fantasy landscape with a pine forest, trending on artstation\", prompt_edit_token_weights=[(2, 2), (7, 5)], seed=2483964025, width=768)"
   ]
  },
  {
   "cell_type": "code",
   "execution_count": null,
   "id": "7a78d312-3125-48bb-871e-f18e38d73dfc",
   "metadata": {},
   "outputs": [],
   "source": [
    "stablediffusion(\"A fantasy landscape with a pine forest, trending on artstation\", \"A fantasy landscape with a pine forest, trending on artstation\", prompt_edit_token_weights=[(2, 4), (7, 10)], seed=2483964025, width=768)"
   ]
  },
  {
   "cell_type": "code",
   "execution_count": null,
   "id": "ef463083-a057-475f-b76a-733ef57442b3",
   "metadata": {},
   "outputs": [],
   "source": [
    "stablediffusion(\"A fantasy landscape with a pine forest, trending on artstation\", seed=2483964025, width=768)"
   ]
  },
  {
   "cell_type": "code",
   "execution_count": null,
   "id": "6d7b0934-0a48-40b5-90f4-3ca3edd549cd",
   "metadata": {},
   "outputs": [],
   "source": [
    "stablediffusion(\"A fantasy landscape with a pine forest, trending on artstation\", \"A winter fantasy landscape with a pine forest, trending on artstation\", seed=2483964025, width=768)"
   ]
  },
  {
   "cell_type": "code",
   "execution_count": null,
   "id": "45c1a0bd-b36e-454a-85fa-4fb745ac7a82",
   "metadata": {},
   "outputs": [],
   "source": [
    "stablediffusion(\"A winter fantasy landscape with a pine forest, trending on artstation\", seed=2483964025, width=768)"
   ]
  },
  {
   "cell_type": "code",
   "execution_count": null,
   "id": "3d63308e-7c6b-4bfb-93c4-915dd4f7b360",
   "metadata": {},
   "outputs": [],
   "source": [
    "stablediffusion(\"A fantasy landscape with a pine forest, trending on artstation\", \"A watercolor painting of a landscape with a pine forest, trending on artstation\", seed=2483964025, width=768)"
   ]
  },
  {
   "cell_type": "code",
   "execution_count": null,
   "id": "e0cdb4b4-485c-44df-a4c4-9e9128c0fa0c",
   "metadata": {},
   "outputs": [],
   "source": [
    "stablediffusion(\"A watercolor painting of a landscape with a pine forest, trending on artstation\", seed=2483964025, width=768)"
   ]
  },
  {
   "cell_type": "code",
   "execution_count": null,
   "id": "6ee96ab0-ad7d-463e-b4db-8e4292d64a7d",
   "metadata": {},
   "outputs": [],
   "source": [
    "stablediffusion(\"A fantasy landscape with a pine forest, trending on artstation\", \"A fantasy landscape with a pine forest and a river, trending on artstation\", prompt_edit_spatial_start=0.0, prompt_edit_spatial_end=0.8, seed=2483964025, width=768)"
   ]
  },
  {
   "cell_type": "code",
   "execution_count": null,
   "id": "00dabdb7-58ef-482c-b84e-768a4dfebd60",
   "metadata": {},
   "outputs": [],
   "source": [
    "stablediffusion(\"A fantasy landscape with a pine forest and a river, trending on artstation\", seed=2483964025, width=768)"
   ]
  },
  {
   "cell_type": "code",
   "execution_count": null,
   "id": "283b44c7-88be-4b76-927b-e99bd06f53df",
   "metadata": {},
   "outputs": [],
   "source": [
    "stablediffusion(\"A fantasy landscape with a pine forest, trending on artstation\", \"A fantasy landscape with a pine forest with fog, trending on artstation\", prompt_edit_token_weights=[(9, -3)], seed=2483964025, width=768)"
   ]
  },
  {
   "cell_type": "code",
   "execution_count": null,
   "id": "489524ae-4a35-4767-9125-3c0de8c73f93",
   "metadata": {},
   "outputs": [],
   "source": [
    "stablediffusion(\"A fantasy landscape with a pine forest, trending on artstation\", \"A fantasy landscape with a pine forest with fog, trending on artstation\", prompt_edit_token_weights=[(9, -6)], seed=2483964025, width=768)"
   ]
  },
  {
   "cell_type": "code",
   "execution_count": null,
   "id": "c9500a69-9ac8-47ff-a125-203fa4367bb1",
   "metadata": {},
   "outputs": [],
   "source": [
    "stablediffusion(\"A fantasy landscape with a pine forest, trending on artstation\", \"A fantasy landscape with a pine forest with fog and rocks, trending on artstation\", prompt_edit_token_weights=[(9, -6), (11, -3)], seed=2483964025, width=768)"
   ]
  },
  {
   "cell_type": "code",
   "execution_count": null,
   "id": "f9fece05-6ebb-4776-949e-5a1886aa8e55",
   "metadata": {},
   "outputs": [],
   "source": [
    "stablediffusion(\"A fantasy landscape with a pine forest, trending on artstation\", \"A fantasy landscape with a pine forest with fog and rocks, trending on artstation\", prompt_edit_token_weights=[(9, -6), (11, -6)], seed=2483964025, width=768)"
   ]
  },
  {
   "cell_type": "code",
   "execution_count": null,
   "id": "d6c7f4d8-13a3-4b81-8339-33a376f3a203",
   "metadata": {},
   "outputs": [],
   "source": [
    "stablediffusion(\"A fantasy landscape with a pine forest without fog and without rocks, trending on artstation\", seed=2483964025, width=768)"
   ]
  },
  {
   "cell_type": "code",
   "execution_count": null,
   "id": "f6e51c5f-c858-4d76-89e7-a4680c925c35",
   "metadata": {},
   "outputs": [],
   "source": [
    "stablediffusion(\"A fantasy landscape with a pine forest without fog and rocks, dry sunny day, grass, trending on artstation\", seed=2483964025, width=768)"
   ]
  },
  {
   "cell_type": "code",
   "execution_count": null,
   "id": "c01c62fe-5b4c-4dcd-a87d-510fb900c590",
   "metadata": {},
   "outputs": [],
   "source": []
  }
 ],
 "metadata": {
  "kernelspec": {
   "display_name": "diffusers",
   "language": "python",
   "name": "diffusers"
  },
  "language_info": {
   "codemirror_mode": {
    "name": "ipython",
    "version": 3
   },
   "file_extension": ".py",
   "mimetype": "text/x-python",
   "name": "python",
   "nbconvert_exporter": "python",
   "pygments_lexer": "ipython3",
   "version": "3.10.4"
  }
 },
 "nbformat": 4,
 "nbformat_minor": 5
}
